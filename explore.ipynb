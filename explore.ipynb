{
 "cells": [
  {
   "cell_type": "code",
   "execution_count": 23,
   "metadata": {
    "collapsed": true
   },
   "outputs": [],
   "source": [
    "from path import Path\n",
    "import pandas as pd\n",
    "\n",
    "from main import Worker"
   ]
  },
  {
   "cell_type": "code",
   "execution_count": 24,
   "outputs": [],
   "source": [
    "a = Path(r'.').glob(r'*.xlsx')\n",
    "assert len(a) == 1\n",
    "\n",
    "df_ = pd.read_excel(a[0], engine='openpyxl')\n",
    "\n",
    "worker = Worker(df_)\n",
    "df = worker.df"
   ],
   "metadata": {
    "collapsed": false,
    "pycharm": {
     "name": "#%%\n"
    }
   }
  },
  {
   "cell_type": "code",
   "execution_count": 31,
   "outputs": [],
   "source": [
    "def get_description(row: pd.Series) -> str:\n",
    "    return \"-=] BESCHREIBUNG [=-\""
   ],
   "metadata": {
    "collapsed": false,
    "pycharm": {
     "name": "#%%\n"
    }
   }
  },
  {
   "cell_type": "code",
   "execution_count": 32,
   "outputs": [
    {
     "name": "stdout",
     "output_type": "stream",
     "text": [
      "start      : 2022-01-03 19:00:00\n",
      "end        : 2022-01-03 21:00:00\n",
      "subject    : Aufbau-Kurs für Einsteiger\n",
      "description: -=] BESCHREIBUNG [=-\n",
      "\n"
     ]
    }
   ],
   "source": [
    "from datetime import datetime\n",
    "from dateutil import parser\n",
    "\n",
    "row = df.iloc[0]\n",
    "\n",
    "cur_date = row['Termin 1']\n",
    "start, end = row['Uhrzeit'].split(' - ')\n",
    "\n",
    "start_datetime = datetime.combine(cur_date.date(), parser.parse(start).time())\n",
    "end_datetime = datetime.combine(cur_date.date(), parser.parse(end).time())\n",
    "\n",
    "print(f'start      : {start_datetime}')\n",
    "print(f'end        : {end_datetime}')\n",
    "print(f'subject    : {row[\"Kurs\"].replace(\" -\", \"-\").replace(\"- \", \"-\")}')\n",
    "print(f'description: {get_description(row)}')\n",
    "\n",
    "print()"
   ],
   "metadata": {
    "collapsed": false,
    "pycharm": {
     "name": "#%%\n"
    }
   }
  },
  {
   "cell_type": "code",
   "execution_count": null,
   "outputs": [],
   "source": [],
   "metadata": {
    "collapsed": false,
    "pycharm": {
     "name": "#%%\n"
    }
   }
  }
 ],
 "metadata": {
  "kernelspec": {
   "name": "pycharm-ba1e84b",
   "language": "python",
   "display_name": "PyCharm (2021-09-07_Magna_Riss)"
  },
  "language_info": {
   "codemirror_mode": {
    "name": "ipython",
    "version": 2
   },
   "file_extension": ".py",
   "mimetype": "text/x-python",
   "name": "python",
   "nbconvert_exporter": "python",
   "pygments_lexer": "ipython2",
   "version": "2.7.6"
  }
 },
 "nbformat": 4,
 "nbformat_minor": 0
}