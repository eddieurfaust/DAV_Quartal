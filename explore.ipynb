{
 "cells": [
  {
   "cell_type": "code",
   "execution_count": 12,
   "metadata": {
    "collapsed": true
   },
   "outputs": [],
   "source": [
    "from path import Path\n",
    "import pandas as pd\n",
    "\n",
    "from main import Worker"
   ]
  },
  {
   "cell_type": "code",
   "execution_count": 13,
   "outputs": [],
   "source": [
    "a = Path(r'.').glob(r'*.xlsx')\n",
    "assert len(a) == 1\n",
    "\n",
    "df_ = pd.read_excel(a[0], engine='openpyxl')\n",
    "\n",
    "worker = Worker(df_)\n",
    "df = worker.df"
   ],
   "metadata": {
    "collapsed": false,
    "pycharm": {
     "name": "#%%\n"
    }
   }
  },
  {
   "cell_type": "code",
   "execution_count": 87,
   "outputs": [
    {
     "name": "stdout",
     "output_type": "stream",
     "text": [
      "class   : Einstiegs-Kurs - Termin 1\n",
      "start   : 2022-01-05 18:30:00\n",
      "end     : 2022-01-05 21:30:00\n",
      "desc    : Potentially assigned trainers: Anne, Claudia, Frank, Orsi, Sosa\n",
      "\n",
      "class   : Einstiegs-Kurs - Termin 2\n",
      "start   : 2022-01-12 18:30:00\n",
      "end     : 2022-01-12 21:30:00\n",
      "desc    : Potentially assigned trainers: Anne, Claudia, Frank, Orsi, Sosa\n",
      "\n",
      "class   : Offener Klettertreff - Termin 1\n",
      "start   : 2022-01-25 19:00:00\n",
      "end     : 2022-01-25 21:00:00\n",
      "desc    : Potentially assigned trainers: Anne, Frank\n",
      "\n",
      "class   : Offener Klettertreff - Termin 1\n",
      "start   : 2022-02-08 19:00:00\n",
      "end     : 2022-02-08 21:00:00\n",
      "desc    : Potentially assigned trainers: Anne, Frank\n",
      "\n",
      "class   : Offener Klettertreff - Termin 1\n",
      "start   : 2022-03-29 19:00:00\n",
      "end     : 2022-03-29 21:00:00\n",
      "desc    : Potentially assigned trainers: Anne, Frank\n",
      "\n",
      "len(all_classes): 5\n"
     ]
    }
   ],
   "source": [
    "from dataclasses import dataclass\n",
    "from typing import Tuple, List\n",
    "from datetime import datetime\n",
    "from dateutil import parser\n",
    "\n",
    "def get_start_end_datetimes(row):\n",
    "    def get_start_end_datetime(date_: datetime.date, start_: datetime.time, end_: datetime.time) -> Tuple:\n",
    "        ret_start = datetime.combine(date_.date(), parser.parse(start_).time())\n",
    "        ret_end = datetime.combine(date_.date(), parser.parse(end_).time())\n",
    "\n",
    "        return ret_start, ret_end\n",
    "\n",
    "    list_of_classes = []\n",
    "\n",
    "    for cur_termin_no in range(1, 5):\n",
    "        cur_termin_str = f'Termin {cur_termin_no}'\n",
    "        cur_date = row[cur_termin_str]\n",
    "\n",
    "        if cur_date is None:\n",
    "            # print(f'{cur_termin_str} -> None!')\n",
    "            continue\n",
    "\n",
    "        start, end = row['Uhrzeit'].split(' - ')\n",
    "\n",
    "        start_datetime, end_datetime = get_start_end_datetime(cur_date, start, end)\n",
    "\n",
    "        list_of_classes.append((cur_termin_str, start_datetime, end_datetime))\n",
    "\n",
    "    return list_of_classes\n",
    "\n",
    "def get_subject(row: pd.Series) -> str:\n",
    "    return row[\"Kurs\"].replace(\" -\", \"-\").replace(\"- \", \"-\")\n",
    "\n",
    "def get_description(row: pd.Series) -> str:\n",
    "    names_only = row.drop(['Öffn.', 'Tag', 'Datum', 'Kurs', 'Uhrzeit', 'Termin 1', 'Termin 2', 'Termin 3', 'Termin 4'])\n",
    "    list_of_trainers = names_only.dropna().to_list()\n",
    "    list_of_trainers = sorted([n.capitalize() for n in list_of_trainers])\n",
    "\n",
    "    return f'Potentially assigned trainers: {\", \".join(list_of_trainers)}'\n",
    "\n",
    "# ---\n",
    "\n",
    "@dataclass(frozen=True)\n",
    "class Termin:\n",
    "    subject: str\n",
    "    start: datetime\n",
    "    end: datetime\n",
    "    description: str\n",
    "\n",
    "all_classes: [List[Termin]] = []\n",
    "# row = df.iloc[79]\n",
    "for idx, row in df.iterrows():\n",
    "    cur_subject = get_subject(row)\n",
    "    cur_list_of_subclasses = get_start_end_datetimes(row)\n",
    "    cur_description = get_description(row)\n",
    "\n",
    "    for sub_class_str, start_datetime, end_datetime in cur_list_of_subclasses:\n",
    "        all_classes.append(Termin(\n",
    "            subject=f'{cur_subject} - {sub_class_str}',\n",
    "            start=start_datetime,\n",
    "            end=end_datetime,\n",
    "            description=cur_description\n",
    "        ))\n",
    "\n",
    "all_classes = [c for c in all_classes if 'Frank' in c.description and 'Anne' in c.description]\n",
    "\n",
    "for c in all_classes:\n",
    "    print(f'class   : {c.subject}')\n",
    "    print(f'start   : {c.start}')\n",
    "    print(f'end     : {c.end}')\n",
    "    print(f'desc    : {c.description}')\n",
    "    print()\n",
    "\n",
    "print(f'len(all_classes): {len(all_classes)}')"
   ],
   "metadata": {
    "collapsed": false,
    "pycharm": {
     "name": "#%%\n"
    }
   }
  },
  {
   "cell_type": "code",
   "execution_count": 95,
   "outputs": [
    {
     "name": "stdout",
     "output_type": "stream",
     "text": [
      "                           subject               start                 end  \\\n",
      "0        Einstiegs-Kurs - Termin 1 2022-01-05 18:30:00 2022-01-05 21:30:00   \n",
      "1        Einstiegs-Kurs - Termin 2 2022-01-12 18:30:00 2022-01-12 21:30:00   \n",
      "2  Offener Klettertreff - Termin 1 2022-01-25 19:00:00 2022-01-25 21:00:00   \n",
      "3  Offener Klettertreff - Termin 1 2022-02-08 19:00:00 2022-02-08 21:00:00   \n",
      "4  Offener Klettertreff - Termin 1 2022-03-29 19:00:00 2022-03-29 21:00:00   \n",
      "\n",
      "                                         description  \n",
      "0  Potentially assigned trainers: Anne, Claudia, ...  \n",
      "1  Potentially assigned trainers: Anne, Claudia, ...  \n",
      "2         Potentially assigned trainers: Anne, Frank  \n",
      "3         Potentially assigned trainers: Anne, Frank  \n",
      "4         Potentially assigned trainers: Anne, Frank  \n"
     ]
    }
   ],
   "source": [],
   "metadata": {
    "collapsed": false,
    "pycharm": {
     "name": "#%%\n"
    }
   }
  }
 ],
 "metadata": {
  "kernelspec": {
   "name": "pycharm-ba1e84b",
   "language": "python",
   "display_name": "PyCharm (2021-09-07_Magna_Riss)"
  },
  "language_info": {
   "codemirror_mode": {
    "name": "ipython",
    "version": 2
   },
   "file_extension": ".py",
   "mimetype": "text/x-python",
   "name": "python",
   "nbconvert_exporter": "python",
   "pygments_lexer": "ipython2",
   "version": "2.7.6"
  }
 },
 "nbformat": 4,
 "nbformat_minor": 0
}